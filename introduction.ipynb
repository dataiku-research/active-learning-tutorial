{
 "cells": [
  {
   "cell_type": "code",
   "execution_count": 1,
   "id": "64a52462",
   "metadata": {},
   "outputs": [],
   "source": [
    "import numpy as np\n",
    "import pigeon\n",
    "import re\n",
    "import numpy as np"
   ]
  },
  {
   "cell_type": "markdown",
   "id": "9008e0a0",
   "metadata": {},
   "source": [
    "# Life of a labeler\n",
    "\n",
    "As many things, one does not know the real burden of a labeler before trying it themselves. In this introduction, we propose to let you label some samples from a clickbait detection task. You will be given newstitle and it is up to you to tell if the link points to a legit article with content, or to a clickbait news meant to show you ads."
   ]
  },
  {
   "cell_type": "code",
   "execution_count": 4,
   "id": "bbfa41b9",
   "metadata": {},
   "outputs": [
    {
     "data": {
      "application/vnd.jupyter.widget-view+json": {
       "model_id": "031843085741417eafbf5ef0788b4390",
       "version_major": 2,
       "version_minor": 0
      },
      "text/plain": [
       "HTML(value='0 examples annotated, 31 examples left')"
      ]
     },
     "metadata": {},
     "output_type": "display_data"
    },
    {
     "data": {
      "application/vnd.jupyter.widget-view+json": {
       "model_id": "e602293f23b0419c8f6ba7e40d3accb3",
       "version_major": 2,
       "version_minor": 0
      },
      "text/plain": [
       "HBox(children=(Button(description='clickbait', style=ButtonStyle()), Button(description='legit', style=ButtonS…"
      ]
     },
     "metadata": {},
     "output_type": "display_data"
    },
    {
     "data": {
      "application/vnd.jupyter.widget-view+json": {
       "model_id": "16d5dd6302354471867b86b7bf169e25",
       "version_major": 2,
       "version_minor": 0
      },
      "text/plain": [
       "Output()"
      ]
     },
     "metadata": {},
     "output_type": "display_data"
    },
    {
     "name": "stdout",
     "output_type": "stream",
     "text": [
      "Annotation done.\n"
     ]
    }
   ],
   "source": [
    "data = np.loadtxt('clickbait.csv', delimiter='_', dtype='str')\n",
    "annotations = pigeon.annotate(\n",
    "    data, options=['clickbait', 'legit'],\n",
    "    shuffle=True, include_skip=False)"
   ]
  },
  {
   "cell_type": "markdown",
   "id": "72dad588",
   "metadata": {},
   "source": [
    "Your annotation work is done, congratulations! We will now write you annotations to a file for further inspection. We will ask you to provide a name for your annotation, first name + last name will do. Any character that is not lowercase later will be discarded. Once it's done, please upload this file on the slack channel of the workshop.\n",
    "\n",
    "Please note that if you are in google collab, the file will be created in your workspace."
   ]
  },
  {
   "cell_type": "code",
   "execution_count": 7,
   "id": "9a771963",
   "metadata": {},
   "outputs": [
    {
     "name": "stdout",
     "output_type": "stream",
     "text": [
      "aabraham\n",
      "Written file clickbait_aabraham.csv\n"
     ]
    }
   ],
   "source": [
    "file_id = re.compile('[^a-z]').sub('', input())\n",
    "if len(file_id) == 0:\n",
    "    raise ValueError('Please provide a non empty string containing lowercase letters.')\n",
    "np.savetxt('clickbait_{}.csv'.format(file_id), annotations, fmt='%s', delimiter='_')\n",
    "print('Written file clickbait_{}.csv'.format(file_id))"
   ]
  },
  {
   "cell_type": "code",
   "execution_count": null,
   "id": "d8bab4f6",
   "metadata": {},
   "outputs": [],
   "source": []
  }
 ],
 "metadata": {
  "kernelspec": {
   "display_name": "Python 3 (ipykernel)",
   "language": "python",
   "name": "python3"
  },
  "language_info": {
   "codemirror_mode": {
    "name": "ipython",
    "version": 3
   },
   "file_extension": ".py",
   "mimetype": "text/x-python",
   "name": "python",
   "nbconvert_exporter": "python",
   "pygments_lexer": "ipython3",
   "version": "3.8.12"
  }
 },
 "nbformat": 4,
 "nbformat_minor": 5
}
