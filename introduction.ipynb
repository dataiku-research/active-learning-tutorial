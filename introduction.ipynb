{
 "cells": [
  {
   "cell_type": "code",
   "execution_count": 2,
   "id": "64a52462",
   "metadata": {},
   "outputs": [],
   "source": [
    "import numpy as np\n",
    "import pigeon\n",
    "\n"
   ]
  },
  {
   "cell_type": "code",
   "execution_count": 9,
   "id": "bbfa41b9",
   "metadata": {},
   "outputs": [],
   "source": [
    "data = np.loadtxt('clickbait.csv', delimiter='_', dtype='str')"
   ]
  },
  {
   "cell_type": "code",
   "execution_count": 10,
   "id": "ef715439",
   "metadata": {},
   "outputs": [
    {
     "data": {
      "text/plain": [
       "array(['Kimchi Quesadillas',\n",
       "       'Your Chance to Show What the Super Bowl Logo Should Look Like',\n",
       "       'Lego Reportedly Responds To Requests For Inclusivity With New Toy In Wheelchair',\n",
       "       'Fresh Fruit Sushi',\n",
       "       'Priest Reportedly Suspended For Riding A Hoverboard During Mass',\n",
       "       'Trying To Keep A Plant Alive',\n",
       "       'The Body as Billboard: Your Ad Here',\n",
       "       'Jonny Lee Miller And Lucy Liu Play Whodunit',\n",
       "       '6 Little Victories',\n",
       "       \"UK's Slow Response To Ebola Cost Thousands Of Lives, Says Report\",\n",
       "       'Never Mind What It Costs. Can I Get 70 % Off?',\n",
       "       'A Plant That Thrives When Used as a Toilet',\n",
       "       \"Goodbye, America's Next Top Model\",\n",
       "       'Erykah Badu Effortlessly Threw Shade At Iggy Azalea Last Night',\n",
       "       'With Digital Foci, Carry Your Slide Show With You',\n",
       "       '7 Highs And 4 Lows Of \"Grease: Live\"',\n",
       "       'Software That Monitors Your Work, Wherever You Are',\n",
       "       'Golf Headwear: A Touch of Style, Even if You Have No Touch',\n",
       "       'Remembering the Way It Was',\n",
       "       'Running to Reclaim Your Body From Cancer',\n",
       "       'A Man Set Fire To A Gas Pump Trying To Kill A Spider With A Lighter',\n",
       "       'Happy Pugsgiving', 'In Search Of The Next \"Battlestar Galactica\"',\n",
       "       'A Case For Sleeping In',\n",
       "       'Stock Investors Ask:  Is It a Bear or a Bull?',\n",
       "       '\"1 Indian + 1 Indian = Unrelatable\": Television\\'s Race Equations',\n",
       "       'In Defense Of Oatmeal Raisin Cookies',\n",
       "       'The New And Improved Eva Longoria',\n",
       "       'How to Make Smart Gifts to Charities in Tough Financial Times',\n",
       "       'Nas Receives W.E.B. Du Bois Medal At Harvard University'],\n",
       "      dtype='<U79')"
      ]
     },
     "execution_count": 10,
     "metadata": {},
     "output_type": "execute_result"
    }
   ],
   "source": [
    "data"
   ]
  },
  {
   "cell_type": "code",
   "execution_count": 11,
   "id": "2f43ffff",
   "metadata": {},
   "outputs": [
    {
     "data": {
      "application/vnd.jupyter.widget-view+json": {
       "model_id": "c3c32c94628f4b2aa23e13e6fdd10062",
       "version_major": 2,
       "version_minor": 0
      },
      "text/plain": [
       "HTML(value='0 examples annotated, 31 examples left')"
      ]
     },
     "metadata": {},
     "output_type": "display_data"
    },
    {
     "data": {
      "application/vnd.jupyter.widget-view+json": {
       "model_id": "64831e6992a544df82091f7b1be72568",
       "version_major": 2,
       "version_minor": 0
      },
      "text/plain": [
       "HBox(children=(Button(description='clickbait', style=ButtonStyle()), Button(description='legit', style=ButtonS…"
      ]
     },
     "metadata": {},
     "output_type": "display_data"
    },
    {
     "data": {
      "application/vnd.jupyter.widget-view+json": {
       "model_id": "ccdd95158a164b86bdb418379a6cc798",
       "version_major": 2,
       "version_minor": 0
      },
      "text/plain": [
       "Output()"
      ]
     },
     "metadata": {},
     "output_type": "display_data"
    },
    {
     "data": {
      "text/plain": [
       "[]"
      ]
     },
     "execution_count": 11,
     "metadata": {},
     "output_type": "execute_result"
    },
    {
     "name": "stdout",
     "output_type": "stream",
     "text": [
      "Annotation done.\n"
     ]
    }
   ],
   "source": [
    "annotations = pigeon.annotate(data, options=['clickbait', 'legit'])"
   ]
  },
  {
   "cell_type": "code",
   "execution_count": 14,
   "id": "9a771963",
   "metadata": {},
   "outputs": [],
   "source": [
    "np.savetxt('clickbait_{}.csv'.format, annotations, fmt='%s', delimiter='_')"
   ]
  },
  {
   "cell_type": "code",
   "execution_count": 15,
   "id": "b69fd6f1",
   "metadata": {},
   "outputs": [
    {
     "name": "stdout",
     "output_type": "stream",
     "text": [
      "klnefner\n"
     ]
    },
    {
     "data": {
      "text/plain": [
       "'klnefner'"
      ]
     },
     "execution_count": 15,
     "metadata": {},
     "output_type": "execute_result"
    }
   ],
   "source": [
    "input()"
   ]
  },
  {
   "cell_type": "code",
   "execution_count": null,
   "id": "fe739be3",
   "metadata": {},
   "outputs": [],
   "source": []
  }
 ],
 "metadata": {
  "kernelspec": {
   "display_name": "Python 3 (ipykernel)",
   "language": "python",
   "name": "python3"
  },
  "language_info": {
   "codemirror_mode": {
    "name": "ipython",
    "version": 3
   },
   "file_extension": ".py",
   "mimetype": "text/x-python",
   "name": "python",
   "nbconvert_exporter": "python",
   "pygments_lexer": "ipython3",
   "version": "3.8.12"
  }
 },
 "nbformat": 4,
 "nbformat_minor": 5
}
