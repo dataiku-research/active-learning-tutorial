{
 "cells": [
  {
   "cell_type": "code",
   "execution_count": 5,
   "id": "fcd358ac",
   "metadata": {},
   "outputs": [],
   "source": [
    "import numpy as np\n",
    "from sklearn.preprocessing import LabelEncoder\n",
    "from sklearn.feature_extraction.text import TfidfVectorizer\n",
    "\n",
    "\n",
    "df = np.recfromcsv('all_clickbait.csv', delimiter='_', comments=None)\n",
    "tfidf = TfidfVectorizer()\n",
    "X = tfidf.fit_transform(df['title'])\n",
    "le = LabelEncoder()\n",
    "y = le.fit_transform(df['clickbait'])\n"
   ]
  },
  {
   "cell_type": "code",
   "execution_count": 6,
   "id": "84250d2c",
   "metadata": {},
   "outputs": [
    {
     "ename": "TypeError",
     "evalue": "_argsort_dispatcher() got an unexpected keyword argument 'inplace'",
     "output_type": "error",
     "traceback": [
      "\u001b[0;31m---------------------------------------------------------------------------\u001b[0m",
      "\u001b[0;31mTypeError\u001b[0m                                 Traceback (most recent call last)",
      "\u001b[0;32m/tmp/ipykernel_653/1082472294.py\u001b[0m in \u001b[0;36m<module>\u001b[0;34m\u001b[0m\n\u001b[1;32m      5\u001b[0m \u001b[0mmodel\u001b[0m\u001b[0;34m.\u001b[0m\u001b[0mfit\u001b[0m\u001b[0;34m(\u001b[0m\u001b[0mX\u001b[0m\u001b[0;34m,\u001b[0m \u001b[0my\u001b[0m\u001b[0;34m)\u001b[0m\u001b[0;34m\u001b[0m\u001b[0;34m\u001b[0m\u001b[0m\n\u001b[1;32m      6\u001b[0m \u001b[0munc\u001b[0m \u001b[0;34m=\u001b[0m \u001b[0mnp\u001b[0m\u001b[0;34m.\u001b[0m\u001b[0mabs\u001b[0m\u001b[0;34m(\u001b[0m\u001b[0;36m.5\u001b[0m \u001b[0;34m-\u001b[0m \u001b[0mmodel\u001b[0m\u001b[0;34m.\u001b[0m\u001b[0mpredict_proba\u001b[0m\u001b[0;34m(\u001b[0m\u001b[0mX\u001b[0m\u001b[0;34m)\u001b[0m\u001b[0;34m[\u001b[0m\u001b[0;34m:\u001b[0m\u001b[0;34m,\u001b[0m \u001b[0;36m0\u001b[0m\u001b[0;34m]\u001b[0m\u001b[0;34m)\u001b[0m\u001b[0;34m\u001b[0m\u001b[0;34m\u001b[0m\u001b[0m\n\u001b[0;32m----> 7\u001b[0;31m \u001b[0mambig\u001b[0m \u001b[0;34m=\u001b[0m \u001b[0mnp\u001b[0m\u001b[0;34m.\u001b[0m\u001b[0margsort\u001b[0m\u001b[0;34m(\u001b[0m\u001b[0munc\u001b[0m\u001b[0;34m,\u001b[0m \u001b[0minplace\u001b[0m\u001b[0;34m=\u001b[0m\u001b[0;32mTrue\u001b[0m\u001b[0;34m)\u001b[0m\u001b[0;34m\u001b[0m\u001b[0;34m\u001b[0m\u001b[0m\n\u001b[0m\u001b[1;32m      8\u001b[0m \u001b[0mprint\u001b[0m\u001b[0;34m(\u001b[0m\u001b[0mX\u001b[0m\u001b[0;34m[\u001b[0m\u001b[0mambig\u001b[0m\u001b[0;34m[\u001b[0m\u001b[0;34m:\u001b[0m\u001b[0;36m20\u001b[0m\u001b[0;34m]\u001b[0m\u001b[0;34m]\u001b[0m\u001b[0;34m)\u001b[0m\u001b[0;34m\u001b[0m\u001b[0;34m\u001b[0m\u001b[0m\n",
      "\u001b[0;32m<__array_function__ internals>\u001b[0m in \u001b[0;36margsort\u001b[0;34m(*args, **kwargs)\u001b[0m\n",
      "\u001b[0;31mTypeError\u001b[0m: _argsort_dispatcher() got an unexpected keyword argument 'inplace'"
     ]
    }
   ],
   "source": [
    "from sklearn.ensemble import RandomForestClassifier\n",
    "\n",
    "\n",
    "model = RandomForestClassifier()\n",
    "model.fit(X, y)\n",
    "unc = np.abs(.5 - model.predict_proba(X)[:, 0])\n"
   ]
  },
  {
   "cell_type": "code",
   "execution_count": 11,
   "id": "df75c74c",
   "metadata": {},
   "outputs": [
    {
     "name": "stdout",
     "output_type": "stream",
     "text": [
      "[('Kimchi Quesadillas', 'clickbait')\n",
      " ('Your Chance to Show What the Super Bowl Logo Should Look Like', 'legit')\n",
      " ('Lego Reportedly Responds To Requests For Inclusivity With New Toy In Wheelchair', 'clickbait')\n",
      " ('Fresh Fruit Sushi', 'clickbait') ('Taco Pie', 'clickbait')\n",
      " ('A Typical Day For A High Schooler In 2008', 'clickbait')\n",
      " ('Priest Reportedly Suspended For Riding A Hoverboard During Mass', 'clickbait')\n",
      " ('Trying To Keep A Plant Alive', 'clickbait')\n",
      " ('The Body as Billboard: Your Ad Here', 'legit')\n",
      " ('Jonny Lee Miller And Lucy Liu Play Whodunit', 'clickbait')\n",
      " ('6 Little Victories', 'clickbait')\n",
      " (\"UK's Slow Response To Ebola Cost Thousands Of Lives, Says Report\", 'clickbait')\n",
      " ('Daisy Takes Control On \"Agents Of S.H.I.E.L.D\"', 'clickbait')\n",
      " ('#FreeTheNipple Investigated By Naked Mike', 'clickbait')\n",
      " (\"Hinds: A Lesson In Cool From Spain's New Faces Of Garage Rock\", 'clickbait')\n",
      " ('Never Mind What It Costs. Can I Get 70 % Off?', 'legit')\n",
      " ('A Plant That Thrives When Used as a Toilet', 'legit')\n",
      " (\"Goodbye, America's Next Top Model\", 'clickbait')\n",
      " ('Erykah Badu Effortlessly Threw Shade At Iggy Azalea Last Night', 'clickbait')\n",
      " ('With Digital Foci, Carry Your Slide Show With You', 'legit')\n",
      " ('7 Highs And 4 Lows Of \"Grease: Live\"', 'clickbait')\n",
      " ('Software That Monitors Your Work, Wherever You Are', 'legit')\n",
      " ('Golf Headwear: A Touch of Style, Even if You Have No Touch', 'legit')\n",
      " ('Remembering the Way It Was', 'legit') ('BFWKND', 'clickbait')\n",
      " ('Running to Reclaim Your Body From Cancer', 'legit')\n",
      " ('New Here? Let the Phone Show You Around', 'legit')\n",
      " ('A Man Set Fire To A Gas Pump Trying To Kill A Spider With A Lighter', 'clickbait')\n",
      " ('Happy Pugsgiving', 'clickbait')\n",
      " ('In Search Of The Next \"Battlestar Galactica\"', 'clickbait')\n",
      " (\"Actor Siddharth Doesn't Want Us To Call Him A Hero, But He's Leaving Us No Choice\", 'clickbait')\n",
      " ('A Case For Sleeping In', 'clickbait')\n",
      " ('Stock Investors Ask:  Is It a Bear or a Bull?', 'legit')\n",
      " ('\"1 Indian + 1 Indian = Unrelatable\": Television\\'s Race Equations', 'clickbait')\n",
      " ('In Defense Of Oatmeal Raisin Cookies', 'clickbait')\n",
      " ('The New And Improved Eva Longoria', 'clickbait')\n",
      " ('Politicians Disappear More Often Than You Think', 'legit')\n",
      " ('How to Make Smart Gifts to Charities in Tough Financial Times', 'legit')\n",
      " ('Nas Receives W.E.B. Du Bois Medal At Harvard University', 'clickbait')\n",
      " ('Helpline: Do you know this pianist?', 'legit')\n",
      " ('Arsenal Praised For Being Only Premier League Club To Raise Money For Refugees', 'clickbait')\n",
      " (\"Whoa: Celine Dion's Son Grew Up\", 'clickbait')\n",
      " ('Whatever You Call It, This Rally May Not Last', 'legit')\n",
      " ('Surround Sound to Make Your Home a Theater', 'legit')\n",
      " ('Award show producers try Emmy Idol', 'legit')\n",
      " ('Request Timeout', 'clickbait') ('Gummy Bear Jello Shots', 'clickbait')\n",
      " ('Inauguration Dress Rehearsal Looks Almost Like the Real Thing', 'legit')\n",
      " ('Americans Review Australian Currency', 'clickbait')\n",
      " ('Comedians Cameron Esposito And Rhea Butcher Survive A Round Of Rapid Fire Questioning', 'clickbait')]\n"
     ]
    }
   ],
   "source": [
    "ambig = np.argsort(unc)\n",
    "print(df[ambig[:50]])"
   ]
  },
  {
   "cell_type": "code",
   "execution_count": 24,
   "id": "f7d8a8c2",
   "metadata": {},
   "outputs": [],
   "source": [
    "df[ambig[:50]].tofile('clickbait.csv', format='%s', sep='_')\n"
   ]
  },
  {
   "cell_type": "code",
   "execution_count": 26,
   "id": "5a75522d",
   "metadata": {},
   "outputs": [],
   "source": [
    "np.savetxt('clickbait.csv', df[ambig[:50]], fmt='%s', delimiter='_')"
   ]
  },
  {
   "cell_type": "code",
   "execution_count": null,
   "id": "010716f1",
   "metadata": {},
   "outputs": [],
   "source": []
  }
 ],
 "metadata": {
  "kernelspec": {
   "display_name": "Python 3 (ipykernel)",
   "language": "python",
   "name": "python3"
  },
  "language_info": {
   "codemirror_mode": {
    "name": "ipython",
    "version": 3
   },
   "file_extension": ".py",
   "mimetype": "text/x-python",
   "name": "python",
   "nbconvert_exporter": "python",
   "pygments_lexer": "ipython3",
   "version": "3.8.12"
  }
 },
 "nbformat": 4,
 "nbformat_minor": 5
}
