{
 "cells": [
  {
   "cell_type": "code",
   "execution_count": 14,
   "id": "23ed4779",
   "metadata": {},
   "outputs": [
    {
     "data": {
      "text/plain": [
       "<generator object Path.glob at 0x7f99f3d9c190>"
      ]
     },
     "execution_count": 14,
     "metadata": {},
     "output_type": "execute_result"
    }
   ],
   "source": [
    "from pathlib import Path\n",
    "import pandas as pd\n",
    "import numpy as np\n",
    "\n",
    "\n",
    "cwd = Path('.')\n",
    "cwd.glob('clickbait_*')"
   ]
  },
  {
   "cell_type": "code",
   "execution_count": 15,
   "id": "ce800992",
   "metadata": {},
   "outputs": [],
   "source": [
    "df = pd.read_csv('cb_labeled.csv', delimiter='_', names=['title', 'label'])\n",
    "for f in cwd.glob('clickbait_*'):\n",
    "    name = str(f).split('.')[0].split('_')[1]\n",
    "    data = pd.read_csv(str(f), delimiter='_', names=['title', name])\n",
    "    df = pd.merge(df, data, on='title')"
   ]
  },
  {
   "cell_type": "code",
   "execution_count": 16,
   "id": "4fb42d64",
   "metadata": {},
   "outputs": [
    {
     "name": "stdout",
     "output_type": "stream",
     "text": [
      "Kimchi Quesadillas\n",
      "   Truth: clickbait  Accuracy: 0.8\n",
      "\n",
      "Your Chance to Show What the Super Bowl Logo Should Look Like\n",
      "   Truth: legit  Accuracy: 0.0\n",
      "\n",
      "Lego Reportedly Responds To Requests For Inclusivity With New Toy In Wheelchair\n",
      "   Truth: clickbait  Accuracy: 0.6\n",
      "\n",
      "Fresh Fruit Sushi\n",
      "   Truth: clickbait  Accuracy: 1.0\n",
      "\n",
      "Priest Reportedly Suspended For Riding A Hoverboard During Mass\n",
      "   Truth: clickbait  Accuracy: 0.6\n",
      "\n",
      "Trying To Keep A Plant Alive\n",
      "   Truth: clickbait  Accuracy: 0.2\n",
      "\n",
      "The Body as Billboard: Your Ad Here\n",
      "   Truth: legit  Accuracy: 0.2\n",
      "\n",
      "Jonny Lee Miller And Lucy Liu Play Whodunit\n",
      "   Truth: clickbait  Accuracy: 0.4\n",
      "\n",
      "6 Little Victories\n",
      "   Truth: clickbait  Accuracy: 0.4\n",
      "\n",
      "UK's Slow Response To Ebola Cost Thousands Of Lives, Says Report\n",
      "   Truth: clickbait  Accuracy: 0.0\n",
      "\n",
      "Never Mind What It Costs. Can I Get 70 % Off?\n",
      "   Truth: legit  Accuracy: 0.2\n",
      "\n",
      "A Plant That Thrives When Used as a Toilet\n",
      "   Truth: legit  Accuracy: 0.2\n",
      "\n",
      "Goodbye, America's Next Top Model\n",
      "   Truth: clickbait  Accuracy: 0.6\n",
      "\n",
      "Erykah Badu Effortlessly Threw Shade At Iggy Azalea Last Night\n",
      "   Truth: clickbait  Accuracy: 0.6\n",
      "\n",
      "With Digital Foci, Carry Your Slide Show With You\n",
      "   Truth: legit  Accuracy: 0.6\n",
      "\n",
      "7 Highs And 4 Lows Of \"Grease: Live\"\n",
      "   Truth: clickbait  Accuracy: 0.8\n",
      "\n",
      "Software That Monitors Your Work, Wherever You Are\n",
      "   Truth: legit  Accuracy: 0.2\n",
      "\n",
      "Golf Headwear: A Touch of Style, Even if You Have No Touch\n",
      "   Truth: legit  Accuracy: 0.4\n",
      "\n",
      "Remembering the Way It Was\n",
      "   Truth: legit  Accuracy: 0.6\n",
      "\n",
      "Running to Reclaim Your Body From Cancer\n",
      "   Truth: legit  Accuracy: 0.2\n",
      "\n",
      "A Man Set Fire To A Gas Pump Trying To Kill A Spider With A Lighter\n",
      "   Truth: clickbait  Accuracy: 0.6\n",
      "\n",
      "Happy Pugsgiving\n",
      "   Truth: clickbait  Accuracy: 0.6\n",
      "\n",
      "In Search Of The Next \"Battlestar Galactica\"\n",
      "   Truth: clickbait  Accuracy: 0.4\n",
      "\n",
      "A Case For Sleeping In\n",
      "   Truth: clickbait  Accuracy: 0.4\n",
      "\n",
      "Stock Investors Ask:  Is It a Bear or a Bull?\n",
      "   Truth: legit  Accuracy: 0.6\n",
      "\n",
      "1 Indian + 1 Indian = Unrelatable: Television's Race Equations\n",
      "   Truth: clickbait  Accuracy: 0.6\n",
      "\n",
      "In Defense Of Oatmeal Raisin Cookies\n",
      "   Truth: clickbait  Accuracy: 0.4\n",
      "\n",
      "The New And Improved Eva Longoria\n",
      "   Truth: clickbait  Accuracy: 0.4\n",
      "\n",
      "How to Make Smart Gifts to Charities in Tough Financial Times\n",
      "   Truth: legit  Accuracy: 0.6\n",
      "\n",
      "Nas Receives W.E.B. Du Bois Medal At Harvard University\n",
      "   Truth: clickbait  Accuracy: 0.0\n",
      "\n"
     ]
    }
   ],
   "source": [
    "for i in range(df.shape[0]):\n",
    "    title = df.loc[i]['title']\n",
    "    y = df.loc[i]['label']\n",
    "    acc = np.mean(df.iloc[i, 2:] == y)\n",
    "    print(title)\n",
    "    print('   Truth: {}  Accuracy: {}'.format(y, acc))\n",
    "    print()"
   ]
  },
  {
   "cell_type": "code",
   "execution_count": null,
   "id": "1363d869",
   "metadata": {},
   "outputs": [],
   "source": []
  },
  {
   "cell_type": "code",
   "execution_count": null,
   "id": "54f26273",
   "metadata": {},
   "outputs": [],
   "source": []
  }
 ],
 "metadata": {
  "kernelspec": {
   "display_name": "Python 3 (ipykernel)",
   "language": "python",
   "name": "python3"
  },
  "language_info": {
   "codemirror_mode": {
    "name": "ipython",
    "version": 3
   },
   "file_extension": ".py",
   "mimetype": "text/x-python",
   "name": "python",
   "nbconvert_exporter": "python",
   "pygments_lexer": "ipython3",
   "version": "3.8.12"
  }
 },
 "nbformat": 4,
 "nbformat_minor": 5
}
