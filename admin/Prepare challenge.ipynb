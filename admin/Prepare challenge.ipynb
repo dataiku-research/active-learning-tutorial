{
 "cells": [
  {
   "cell_type": "code",
   "execution_count": 1,
   "id": "3174b41b",
   "metadata": {},
   "outputs": [
    {
     "data": {
      "text/plain": [
       "(164860, 7)"
      ]
     },
     "execution_count": 1,
     "metadata": {},
     "output_type": "execute_result"
    }
   ],
   "source": [
    "import openml\n",
    "import numpy as np\n",
    "from sklearn.compose import ColumnTransformer\n",
    "from sklearn.preprocessing import StandardScaler, OneHotEncoder\n",
    "\n",
    "\n",
    "dataset = openml.datasets.get_dataset(1483)\n",
    "X, y, cat_indicator, names = dataset.get_data(dataset_format='array', target=dataset.default_target_attribute)\n",
    "cat_indicator = np.asarray(cat_indicator)\n",
    "\n",
    "ct = ColumnTransformer([\n",
    "    ('encoder', OneHotEncoder(), np.where(cat_indicator)[0]),\n",
    "    ('normalizer', StandardScaler(), np.where(~cat_indicator)[0])\n",
    "], remainder='passthrough')\n",
    "\n",
    "X.shape"
   ]
  },
  {
   "cell_type": "code",
   "execution_count": 2,
   "id": "eac93111",
   "metadata": {},
   "outputs": [
    {
     "data": {
      "text/plain": [
       "(array([ 0,  1,  2,  3,  4,  5,  6,  7,  8,  9, 10]),\n",
       " array([ 2973,  2848, 32710, 54480,  6168,  5210, 27244,  1706, 11779,\n",
       "        18361,  1381]))"
      ]
     },
     "execution_count": 2,
     "metadata": {},
     "output_type": "execute_result"
    }
   ],
   "source": [
    "np.unique(y, return_counts=True)"
   ]
  },
  {
   "cell_type": "code",
   "execution_count": 4,
   "id": "ff62cf80",
   "metadata": {},
   "outputs": [
    {
     "name": "stdout",
     "output_type": "stream",
     "text": [
      "(144574, 7) (144574,)\n"
     ]
    }
   ],
   "source": [
    "# We keep only calsses 2, 3, 6, 8, and 9\n",
    "\n",
    "to_keep = np.in1d(y, [2, 3, 6, 8, 9])\n",
    "\n",
    "X = X[to_keep]\n",
    "y = y[to_keep]\n",
    "print(X.shape, y.shape)"
   ]
  },
  {
   "cell_type": "code",
   "execution_count": 6,
   "id": "4c6e9aff",
   "metadata": {},
   "outputs": [],
   "source": [
    "shuffle = np.arange(X.shape[0])\n",
    "np.random.shuffle(shuffle)\n",
    "X = X[shuffle]\n",
    "y = y[shuffle]"
   ]
  },
  {
   "cell_type": "code",
   "execution_count": 10,
   "id": "b28c3c92",
   "metadata": {},
   "outputs": [],
   "source": [
    "X_train, y_train = X[:500], y[:500]\n",
    "X_test, y_test = X[1000:6000], y[1000:6000]"
   ]
  },
  {
   "cell_type": "code",
   "execution_count": 11,
   "id": "13800268",
   "metadata": {},
   "outputs": [],
   "source": [
    "np.savetxt('X_train.csv', X_train)\n",
    "np.savetxt('y_train.csv', y_train)\n",
    "np.savetxt('X_test.csv', X_test)\n",
    "np.savetxt('y_test.csv', y_test)"
   ]
  },
  {
   "cell_type": "code",
   "execution_count": null,
   "id": "60c5b687",
   "metadata": {},
   "outputs": [],
   "source": []
  }
 ],
 "metadata": {
  "kernelspec": {
   "display_name": "Python 3 (ipykernel)",
   "language": "python",
   "name": "python3"
  },
  "language_info": {
   "codemirror_mode": {
    "name": "ipython",
    "version": 3
   },
   "file_extension": ".py",
   "mimetype": "text/x-python",
   "name": "python",
   "nbconvert_exporter": "python",
   "pygments_lexer": "ipython3",
   "version": "3.8.12"
  }
 },
 "nbformat": 4,
 "nbformat_minor": 5
}
