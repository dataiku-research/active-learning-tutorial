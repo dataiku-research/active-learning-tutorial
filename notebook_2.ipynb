{
 "cells": [
  {
   "cell_type": "markdown",
   "id": "5c26a823",
   "metadata": {},
   "source": [
    "# State of the art query sampling methods\n",
    "In this notebook, we propose to test recent query sampling methods from various packages. We load the FashionMNIST dataset."
   ]
  },
  {
   "cell_type": "code",
   "execution_count": 1,
   "id": "c3c6763d",
   "metadata": {},
   "outputs": [],
   "source": [
    "import openml\n",
    "import numpy as np\n",
    "from sklearn.ensemble import RandomForestClassifier\n",
    "from matplotlib import pyplot as plt\n",
    "\n",
    "\n",
    "dataset = openml.datasets.get_dataset(40996)\n",
    "X, y, cat_indicator, a = dataset.get_data(dataset_format='array', target=dataset.default_target_attribute)\n",
    "X = X.astype('float32') / 255.\n",
    "\n",
    "n_iter = 10\n",
    "batch_size = 50\n",
    "total_accuracies = {}\n",
    "model = RandomForestClassifier()"
   ]
  },
  {
   "cell_type": "markdown",
   "id": "10a1bce1",
   "metadata": {},
   "source": [
    "## Baal's BALD\n",
    "\n",
    "BALD is a Bayesian approach to query strategy. Several implementation are available, we propose to use one from the Baal plugin, specialized in Bayesian method. Note that a batch version of this algorithm called BatchBALD exists but its long computational time makes it unfit for a tutorial.\n",
    "\n",
    "We propose a wrapper to use this sampler using the cardinal interface. However, this exercise can be made with the wrapper of your chosing among other packages such as modAL or alipy."
   ]
  },
  {
   "cell_type": "code",
   "execution_count": 6,
   "id": "4beeb947",
   "metadata": {},
   "outputs": [],
   "source": [
    "from baal.active.heuristics import BALD\n",
    "from cardinal.base import ScoredQuerySampler\n",
    "from cardinal.uncertainty import check_proba_estimator\n",
    "from scipy.special import xlogy\n",
    "\n",
    "\n",
    "\n",
    "def predict(test, clf):\n",
    "    # Predict with all fitted estimators.\n",
    "    x = np.array(list(map(lambda e: e.predict_proba(test), clf.estimators_)))\n",
    "\n",
    "    # Roll axis because BaaL expect [n_samples, n_classes, ..., n_estimations]\n",
    "    x = np.rollaxis(x, 0, 3)\n",
    "    return x\n",
    "\n",
    "\n",
    "class BALDSampler(ScoredQuerySampler):\n",
    "    def __init__(self, classifier, batch_size: int,\n",
    "                 strategy: str = 'top', assume_fitted: bool = False,\n",
    "                 verbose: int = 0):\n",
    "        super().__init__(batch_size, strategy=strategy)\n",
    "        self.classifier_ = classifier\n",
    "        self.assume_fitted = assume_fitted\n",
    "        self.verbose = verbose\n",
    "        if self.classifier_ == 'precomputed':\n",
    "            self.assume_fitted = True\n",
    "        else:\n",
    "            check_proba_estimator(classifier)\n",
    "\n",
    "    def fit(self, X: np.array, y: np.array) -> 'BALDSampler':\n",
    "        if not self.assume_fitted:\n",
    "            self.classifier_.fit(X, y)\n",
    "        return self\n",
    "\n",
    "    def score_samples(self, X: np.array) -> np.array:\n",
    "        predictions = predict(X, self.classifier_)\n",
    "        expected_entropy = - np.mean(np.sum(xlogy(predictions, predictions), axis=1),\n",
    "                                     axis=-1)\n",
    "        expected_p = np.mean(predictions, axis=-1)  # [batch_size, n_classes, ...]\n",
    "        entropy_expected_p = - np.sum(xlogy(expected_p, expected_p),\n",
    "                                      axis=1)  # [batch size, ...]\n",
    "        bald_acq = entropy_expected_p - expected_entropy\n",
    "        return bald_acq\n"
   ]
  },
  {
   "cell_type": "markdown",
   "id": "2fe33f6a",
   "metadata": {},
   "source": [
    "## Cardinal methods\n",
    "\n",
    "In this section, we focus on two recent methods:\n",
    "* Diverse mini-batch active learning\n",
    "* Core-sets (more precisely, k-center greedy)"
   ]
  },
  {
   "cell_type": "markdown",
   "id": "33e99429",
   "metadata": {},
   "source": [
    "## Benchmark\n",
    "\n",
    "We run a benchmark of those methods."
   ]
  },
  {
   "cell_type": "code",
   "execution_count": 7,
   "id": "d88a2ede",
   "metadata": {},
   "outputs": [
    {
     "name": "stdout",
     "output_type": "stream",
     "text": [
      "Sampler:  BALD\n"
     ]
    },
    {
     "data": {
      "image/png": "[encoded data removed]",
      "text/plain": [
       "<Figure size 432x288 with 1 Axes>"
      ]
     },
     "metadata": {
      "needs_background": "light"
     },
     "output_type": "display_data"
    }
   ],
   "source": [
    "from cardinal.uncertainty import MarginSampler\n",
    "from cardinal.random import RandomSampler\n",
    "from cardinal.zhdanov2019 import TwoStepKMeansSampler\n",
    "from cardinal.plotting import plot_confidence_interval\n",
    "from cardinal.utils import ActiveLearningSplitter\n",
    "\n",
    "\n",
    "samplers = [\n",
    "    ('Random', RandomSampler(batch_size)),\n",
    "    ('Margin', MarginSampler(model, batch_size, assume_fitted=True)),\n",
    "    ('WKMeans', TwoStepKMeansSampler(10, model, batch_size, assume_fitted=True)),\n",
    "    ('BALD', BALDSampler(model, batch_size, assume_fitted=True))\n",
    "]\n",
    "\n",
    "figure_accuracies = plt.figure().number\n",
    "idxs = {}\n",
    "\n",
    "for sampler_name, sampler in samplers:\n",
    "    \n",
    "    print('Sampler: ', sampler_name)\n",
    "    \n",
    "    all_accuracies = []\n",
    "\n",
    "    for k in range(10):\n",
    "        idx = ActiveLearningSplitter.train_test_split(X.shape[0], test_size=500, random_state=k)\n",
    "\n",
    "        accuracies = []\n",
    "\n",
    "        # For simplicity, the first batch is simply one sample from each class\n",
    "        one_per_class = np.unique(y[idx.non_selected], return_index=True)[1]\n",
    "        idx.add_batch(one_per_class)\n",
    "\n",
    "        # A classic active learning loop\n",
    "        for j in range(n_iter):\n",
    "            model.fit(X[idx.selected], y[idx.selected])\n",
    "            accuracies.append(model.score(X[idx.test], y[idx.test]))\n",
    "            sampler.fit(X[idx.selected], y[idx.selected])\n",
    "            idx.add_batch(sampler.select_samples(X[idx.non_selected]))\n",
    "\n",
    "        all_accuracies.append(accuracies)\n",
    "    \n",
    "    # Keep the last splitter\n",
    "    idxs[sampler_name] = idx\n",
    "    \n",
    "    x_data = np.arange(10, batch_size * (n_iter - 1) + 11, batch_size)\n",
    "\n",
    "    plt.figure(figure_accuracies)\n",
    "    plot_confidence_interval(x_data, all_accuracies, label=sampler_name)\n",
    "\n",
    "plt.figure(figure_accuracies)\n",
    "plt.xlabel('Labeled samples')\n",
    "plt.ylabel('Accuracy')\n",
    "plt.legend()\n",
    "plt.tight_layout()\n",
    "\n",
    "plt.show()"
   ]
  },
  {
   "cell_type": "markdown",
   "id": "ca261ee9",
   "metadata": {},
   "source": [
    "# Play the devil advocate \n",
    "\n",
    "You have now two benchmarks with two different datasets and various methods. During the first part, we highlighted that the complexity of active learning experiments could make it easy to have one method dominate the others.\n",
    "\n",
    "This is your turn to try!\n",
    "\n",
    "Chose a method (advice: you should consider BALD as a weak contender rather than a champion). The cell below contains experimental parameters that you are allowed to tune to make your method looks better. The second cell will run your experiment and the last one computes a score. If you method outperforms the others, do not hesitate to share it!"
   ]
  },
  {
   "cell_type": "code",
   "execution_count": null,
   "id": "ae53057b",
   "metadata": {},
   "outputs": [],
   "source": [
    "cv_seeds = [0, 1, 2]\n",
    "batch_size = 50\n",
    "\n",
    "model = RandomForestClassifier()\n",
    "\n",
    "samplers = [\n",
    "    ('Random', RandomSampler(batch_size)),\n",
    "    ('Margin', MarginSampler(model, batch_size, assume_fitted=True)),\n",
    "    ('WKMeans', TwoStepKMeansSampler(10, model, batch_size, assume_fitted=True)),\n",
    "    ('Proposed', YOUR_SAMPLER_HERE)\n",
    "]\n"
   ]
  },
  {
   "cell_type": "code",
   "execution_count": null,
   "id": "eff07cda",
   "metadata": {},
   "outputs": [],
   "source": [
    "digits = load_digits()\n",
    "X, y = load_digits(return_X_y=True)\n",
    "X /= 255.\n",
    "\n",
    "n_iter = 10\n",
    "\n",
    "sampler_accuracies = {}\n",
    "\n",
    "for sampler_name, sampler in samplers:\n",
    "    \n",
    "    print('Sampler: ', sampler_name)\n",
    "    \n",
    "    all_accuracies = []\n",
    "\n",
    "    for k in range(10):\n",
    "        idx = ActiveLearningSplitter.train_test_split(X.shape[0], test_size=500, random_state=k)\n",
    "\n",
    "        accuracies = []\n",
    "\n",
    "        # For simplicity, the first batch is simply one sample from each class\n",
    "        one_per_class = np.unique(y[idx.non_selected], return_index=True)[1]\n",
    "        idx.add_batch(one_per_class)\n",
    "\n",
    "        # A classic active learning loop\n",
    "        for j in range(n_iter):\n",
    "            model.fit(X[idx.selected], y[idx.selected])\n",
    "            accuracies.append(model.score(X[idx.test], y[idx.test]))\n",
    "            sampler.fit(X[idx.selected], y[idx.selected])\n",
    "            idx.add_batch(sampler.select_samples(X[idx.non_selected]))\n",
    "\n",
    "        all_accuracies.append(accuracies)\n",
    "    \n",
    "    sampler_accuracies[sampler] = all_accuracies\n"
   ]
  },
  {
   "cell_type": "code",
   "execution_count": null,
   "id": "3073d309",
   "metadata": {},
   "outputs": [],
   "source": [
    "# Check that proposed is best\n",
    "\n",
    "\n",
    "score = len(samplers) + len(cv_seeds) + batch_size / 50 # + cd"
   ]
  }
 ],
 "metadata": {
  "kernelspec": {
   "display_name": "Python 3 (ipykernel)",
   "language": "python",
   "name": "python3"
  },
  "language_info": {
   "codemirror_mode": {
    "name": "ipython",
    "version": 3
   },
   "file_extension": ".py",
   "mimetype": "text/x-python",
   "name": "python",
   "nbconvert_exporter": "python",
   "pygments_lexer": "ipython3",
   "version": "3.8.12"
  }
 },
 "nbformat": 4,
 "nbformat_minor": 5
}
